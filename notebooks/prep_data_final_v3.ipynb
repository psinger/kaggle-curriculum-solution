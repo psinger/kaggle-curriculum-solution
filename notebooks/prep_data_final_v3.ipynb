{
 "cells": [
  {
   "cell_type": "code",
   "execution_count": 1,
   "id": "1bf7e3e4-1e93-4105-8025-1c4d89fcaa89",
   "metadata": {},
   "outputs": [],
   "source": [
    "import pandas as pd\n",
    "\n",
    "# define some helper functions and classes to aid with data traversal\n",
    "\n",
    "def print_markdown(md):\n",
    "    display(Markdown(md))\n",
    "\n",
    "class Topic:\n",
    "    def __init__(self, topic_id):\n",
    "        self.id = topic_id\n",
    "\n",
    "    @property\n",
    "    def parent(self):\n",
    "        parent_id = topics_orig.loc[self.id].parent\n",
    "        if pd.isna(parent_id):\n",
    "            return None\n",
    "        else:\n",
    "            return Topic(parent_id)\n",
    "\n",
    "    @property\n",
    "    def ancestors(self):\n",
    "        ancestors = []\n",
    "        parent = self.parent\n",
    "        while parent is not None:\n",
    "            ancestors.append(parent)\n",
    "            parent = parent.parent\n",
    "        return ancestors\n",
    "\n",
    "    @property\n",
    "    def siblings(self):\n",
    "        if not self.parent:\n",
    "            return []\n",
    "        else:\n",
    "            return [topic for topic in self.parent.children if topic != self]\n",
    "\n",
    "    def get_breadcrumbs(self, separator=\" | \", include_self=True, include_root=True):\n",
    "        ancestors = self.ancestors\n",
    "        if include_self:\n",
    "            ancestors = [self] + ancestors\n",
    "        if not include_root:\n",
    "            ancestors = ancestors[:-1]\n",
    "        return separator.join(reversed([a.title for a in ancestors]))\n",
    "\n",
    "    @property\n",
    "    def children(self):\n",
    "        return [Topic(child_id) for child_id in topics[topics_orig.parent == self.id].index]\n",
    "\n",
    "    def __eq__(self, other):\n",
    "        if not isinstance(other, Topic):\n",
    "            return False\n",
    "        return self.id == other.id\n",
    "\n",
    "    def __getattr__(self, name):\n",
    "        return topics_orig.loc[self.id][name]\n",
    "\n",
    "    def __str__(self):\n",
    "        return self.title\n",
    "    \n",
    "    def __repr__(self):\n",
    "        return f\"<Topic(id={self.id}, title=\\\"{self.title}\\\")>\"\n"
   ]
  },
  {
   "cell_type": "code",
   "execution_count": 2,
   "id": "04cf1c5f",
   "metadata": {},
   "outputs": [],
   "source": [
    "ROOT = \"../data/\""
   ]
  },
  {
   "cell_type": "code",
   "execution_count": 3,
   "id": "798cecb3-ecc0-4bc9-ad5a-fc9b7f4b4445",
   "metadata": {},
   "outputs": [],
   "source": [
    "topics = pd.read_csv(ROOT + \"topics.csv\")\n",
    "contents = pd.read_csv(ROOT + \"content.csv\")\n",
    "correlations = pd.read_csv(ROOT + \"correlations.csv\")"
   ]
  },
  {
   "cell_type": "code",
   "execution_count": 4,
   "id": "75e147d9-029a-4c27-9a4f-362e27a884e5",
   "metadata": {},
   "outputs": [],
   "source": [
    "topics = topics.fillna({\"title\": \"\", \"description\": \"\"})\n",
    "contents = contents.fillna({\"title\": \"\", \"description\": \"\"})"
   ]
  },
  {
   "cell_type": "code",
   "execution_count": 5,
   "id": "43017278-0add-4115-a07d-8e8a2e58c30c",
   "metadata": {},
   "outputs": [],
   "source": [
    "topics = topics.set_index(\"id\", drop=False)\n",
    "contents = contents.set_index(\"id\", drop=False)"
   ]
  },
  {
   "cell_type": "code",
   "execution_count": 6,
   "id": "a9f42239",
   "metadata": {},
   "outputs": [],
   "source": [
    "topics_orig = topics.copy()"
   ]
  },
  {
   "cell_type": "code",
   "execution_count": 7,
   "id": "d7f8ee84-53be-4686-991a-73aa4e806347",
   "metadata": {},
   "outputs": [],
   "source": [
    "topics[\"breadcrumb\"] = topics[\"id\"].transform(lambda x: Topic(x).get_breadcrumbs())\n",
    "contents[\"breadcrumb\"] = \"\""
   ]
  },
  {
   "cell_type": "code",
   "execution_count": 8,
   "id": "3a90e4d6-8c11-4838-8bda-998f1e7d59c6",
   "metadata": {},
   "outputs": [],
   "source": [
    "contents[\"type\"] = \"content\"\n",
    "topics[\"type\"] = \"topic\"\n",
    "\n",
    "topics[\"text\"] = \"\""
   ]
  },
  {
   "cell_type": "code",
   "execution_count": 9,
   "id": "3be10137-ef62-4480-94d9-0c0421118a97",
   "metadata": {},
   "outputs": [],
   "source": [
    "contents[\"category\"] = contents.kind"
   ]
  },
  {
   "cell_type": "code",
   "execution_count": 10,
   "id": "c146f1b8-1403-4382-b89b-c41dbe7c7004",
   "metadata": {},
   "outputs": [],
   "source": [
    "from sklearn.model_selection import GroupKFold, KFold, train_test_split\n",
    "import numpy as np\n",
    "topics = topics.reset_index(drop=True)\n",
    "for fold, (_, val_idx) in enumerate(\n",
    "    list(\n",
    "        GroupKFold(n_splits=5).split(\n",
    "            np.arange(len(topics)), groups=topics.id\n",
    "        )\n",
    "    )\n",
    "):\n",
    "    topics.loc[val_idx, \"fold\"] = fold\n",
    "topics[\"fold\"] = topics[\"fold\"].astype(int)\n",
    "topics = topics.set_index(\"id\", drop=False)"
   ]
  },
  {
   "cell_type": "code",
   "execution_count": 11,
   "id": "f6e1b9e4-b65c-47d8-912a-d1135ec706a9",
   "metadata": {},
   "outputs": [],
   "source": [
    "samples = []\n",
    "\n",
    "label = 0\n",
    "for row in correlations.itertuples():\n",
    "        \n",
    "    topic = topics.loc[row.topic_id]\n",
    "    \n",
    "    sample = {\n",
    "        \"type\": \"topic\",\n",
    "        \"title\": topic.title,\n",
    "        \"breadcrumb\": topic.breadcrumb,\n",
    "        \"description\": topic.description,\n",
    "        \"text\": topic.text,\n",
    "        \"label\": label,\n",
    "        \"topic_id\": row.topic_id,\n",
    "        \"fold\": topic.fold,\n",
    "        \"content_id\": \"\",\n",
    "        \"category\": topic.category,\n",
    "        \"language\": topic.category,\n",
    "    }\n",
    "    samples.append(sample)\n",
    "    \n",
    "    cids = row.content_ids.split(\" \")\n",
    "    #print(len(cids))\n",
    "    for cid in cids:\n",
    "        content = contents.loc[cid]\n",
    "    \n",
    "        sample = {\n",
    "            \"type\": \"content\",\n",
    "            \"title\": content.title,\n",
    "            \"breadcrumb\": content.breadcrumb,\n",
    "            \"description\": content.description,\n",
    "            \"text\": content.text,\n",
    "            \"label\": label,\n",
    "            \"topic_id\": \"\",\n",
    "            \"fold\": topic.fold,\n",
    "            \"content_id\": cid,\n",
    "            \"category\": content.category,\n",
    "            \"language\": content.language,\n",
    "        }\n",
    "        samples.append(sample)\n",
    "    label += 1"
   ]
  },
  {
   "cell_type": "code",
   "execution_count": 12,
   "id": "885bc68a-333e-42c2-ac3f-2efc7ccc3063",
   "metadata": {},
   "outputs": [],
   "source": [
    "df = pd.DataFrame(samples)"
   ]
  },
  {
   "cell_type": "code",
   "execution_count": 13,
   "id": "a455924e-0de7-44b2-9214-6fd21cffa929",
   "metadata": {},
   "outputs": [],
   "source": [
    "df.to_csv(ROOT + \"train_folded_v9.csv\", index=False)"
   ]
  },
  {
   "cell_type": "code",
   "execution_count": null,
   "id": "f1cff450-fde8-4871-bba6-923466bb4f73",
   "metadata": {},
   "outputs": [],
   "source": []
  }
 ],
 "metadata": {
  "kernelspec": {
   "display_name": "Python 3 (ipykernel)",
   "language": "python",
   "name": "python3"
  },
  "language_info": {
   "codemirror_mode": {
    "name": "ipython",
    "version": 3
   },
   "file_extension": ".py",
   "mimetype": "text/x-python",
   "name": "python",
   "nbconvert_exporter": "python",
   "pygments_lexer": "ipython3",
   "version": "3.10.4"
  }
 },
 "nbformat": 4,
 "nbformat_minor": 5
}
